{
 "cells": [
  {
   "cell_type": "markdown",
   "metadata": {},
   "source": [
    "# Monte Carlo World Cup Simulation"
   ]
  },
  {
   "cell_type": "markdown",
   "metadata": {},
   "source": [
    "### Elo Data\n",
    "###### Source date: 05/22/2018 \n",
    "https://www.eloratings.net/"
   ]
  },
  {
   "cell_type": "code",
   "execution_count": 2,
   "metadata": {},
   "outputs": [],
   "source": [
    "participant_elos = {'Australia':1714, \n",
    "                    'Iran':1796,\n",
    "                    'Japan':1692, \n",
    "                    'Saudi Arabia': 1600,\n",
    "                    'South Korea':1745, \n",
    "                    'Egypt':1646,\n",
    "                    'Morocco':1711,\n",
    "                    'Nigeria':1699,\n",
    "                    'Senegal':1747,\n",
    "                    'Tunisia':1649,\n",
    "                    'Costa Rica':1745,\n",
    "                    'Mexico':1859,\n",
    "                    'Panama':1669,\n",
    "                    'Argentina': 1985,\n",
    "                    'Brazil':2131,\n",
    "                    'Colombia':1935,\n",
    "                    'Peru':1906,\n",
    "                    'Uruguay':1891,\n",
    "                    'Belgium':1931,\n",
    "                    'Croatia':1853,\n",
    "                    'Denmark':1843,\n",
    "                    'England':1941,\n",
    "                    'France':1984,\n",
    "                    'Germany':2092,\n",
    "                    'Iceland':1787,\n",
    "                    'Poland':1831,\n",
    "                    'Portugal':1975,\n",
    "                    'Russia':1685,       # Host Country\n",
    "                    'Serbia':1770,\n",
    "                    'Spain':2049,\n",
    "                    'Sweden':1796,\n",
    "                    'Switzerland':1879              \n",
    "                   }"
   ]
  },
  {
   "cell_type": "code",
   "execution_count": 3,
   "metadata": {},
   "outputs": [],
   "source": [
    "groups = {'Group_A': ['Russia', 'Saudi Arabia', 'Egypt', 'Uruguay'],\n",
    "          'Group_B': ['Portugal', 'Spain', 'Morocco', 'Iran'],\n",
    "          'Group_C': ['France', 'Australia', 'Peru', 'Denmark'],\n",
    "          'Group_D': ['Argentina', 'Iceland', 'Croatia', 'Nigeria'],\n",
    "          'Group_E': ['Brazil', 'Switzerland', 'Costa Rica', 'Serbia'],\n",
    "          'Group_F': ['Germany', 'Mexico', 'Sweden', 'South Korea'],\n",
    "          'Group_G': ['Belgium', 'Panama', 'Tunisia', 'England'],\n",
    "          'Group_H': ['Poland', 'Senegal', 'Colombia', 'Japan']       \n",
    "        }"
   ]
  },
  {
   "cell_type": "code",
   "execution_count": 4,
   "metadata": {},
   "outputs": [
    {
     "name": "stdout",
     "output_type": "stream",
     "text": [
      "1685\n",
      "1600\n",
      "1646\n",
      "1891\n",
      "1975\n",
      "2049\n",
      "1711\n",
      "1796\n",
      "1984\n",
      "1714\n",
      "1906\n",
      "1843\n",
      "1985\n",
      "1787\n",
      "1853\n",
      "1699\n",
      "2131\n",
      "1879\n",
      "1745\n",
      "1770\n",
      "2092\n",
      "1859\n",
      "1796\n",
      "1745\n",
      "1931\n",
      "1669\n",
      "1649\n",
      "1941\n",
      "1831\n",
      "1747\n",
      "1935\n",
      "1692\n"
     ]
    }
   ],
   "source": [
    "for g in groups:\n",
    "    for t in groups[g]:\n",
    "        print(participant_elos[t])"
   ]
  },
  {
   "cell_type": "markdown",
   "metadata": {},
   "source": [
    "#### Win probability formula\n",
    "$$W_e = \\frac{1}{10^{\\frac{-d_r}{400}} + 1}$$\n"
   ]
  },
  {
   "cell_type": "code",
   "execution_count": 49,
   "metadata": {},
   "outputs": [
    {
     "name": "stdout",
     "output_type": "stream",
     "text": [
      "('Russia', 'Saudi Arabia') 0.6199413590445233\n",
      "('Russia', 'Egypt') 0.5558909611168531\n",
      "('Russia', 'Uruguay') 0.2340053292335112\n",
      "('Saudi Arabia', 'Egypt') 0.43418479693076684\n",
      "('Saudi Arabia', 'Uruguay') 0.15774132752957445\n",
      "('Egypt', 'Uruguay') 0.19618148057531573\n"
     ]
    }
   ],
   "source": [
    "from itertools import combinations\n",
    "\n",
    "def win_probability(team, opponent, elo):\n",
    "    team_elo = elo[team]\n",
    "    opponent_elo = elo[opponent]\n",
    "    return (1 / (10 ** ( - ( team_elo-opponent_elo) / 400) + 1 ) )\n",
    "\n",
    "def single_group_run(group_name):\n",
    "    group_members = groups[group_name]\n",
    "    for game in combinations(group_members, 2):\n",
    "        print(game, win_probability(game[0], game[1], participant_elos))\n",
    "\n",
    "def simulate_single_group_winners(group_name, number_of_runs):\n",
    "    group_members = groups[group_name]\n",
    "    for game in combinations(group_members, 2):\n",
    "        print(game, win_probability(game[0], game[1], participant_elos))\n",
    "        \n",
    "simulate_single_group_winners('Group_A',10)"
   ]
  },
  {
   "cell_type": "code",
   "execution_count": 40,
   "metadata": {},
   "outputs": [
    {
     "data": {
      "text/plain": [
       "[(1, 2), (1, 3), (1, 4), (2, 3), (2, 4), (3, 4)]"
      ]
     },
     "execution_count": 40,
     "metadata": {},
     "output_type": "execute_result"
    }
   ],
   "source": [
    "from itertools import combinations\n",
    "list(combinations([1,2,3,4],2))"
   ]
  },
  {
   "cell_type": "code",
   "execution_count": null,
   "metadata": {},
   "outputs": [],
   "source": []
  }
 ],
 "metadata": {
  "kernelspec": {
   "display_name": "Python 3",
   "language": "python",
   "name": "python3"
  },
  "language_info": {
   "codemirror_mode": {
    "name": "ipython",
    "version": 3
   },
   "file_extension": ".py",
   "mimetype": "text/x-python",
   "name": "python",
   "nbconvert_exporter": "python",
   "pygments_lexer": "ipython3",
   "version": "3.6.4"
  }
 },
 "nbformat": 4,
 "nbformat_minor": 2
}
