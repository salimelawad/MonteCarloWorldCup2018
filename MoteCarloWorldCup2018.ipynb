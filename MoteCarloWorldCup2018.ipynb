{
 "cells": [
  {
   "cell_type": "markdown",
   "metadata": {},
   "source": [
    "# Monte Carlo World Cup Simulation"
   ]
  },
  {
   "cell_type": "markdown",
   "metadata": {},
   "source": [
    "### Elo Data\n",
    "###### Source date: 05/22/2018 \n",
    "https://www.eloratings.net/"
   ]
  },
  {
   "cell_type": "code",
   "execution_count": 4,
   "metadata": {
    "collapsed": true
   },
   "outputs": [],
   "source": [
    "participant_elos = {'Australia':1714, \n",
    "                    'Iran':1796,\n",
    "                    'Japan':1692, \n",
    "                    'Saudi Arabia': 1600,\n",
    "                    'South Korea':1745, \n",
    "                    'Egypt':1646,\n",
    "                    'Morocco':1711,\n",
    "                    'Nigeria':1699,\n",
    "                    'Senegal':1747,\n",
    "                    'Tunisia':1649,\n",
    "                    'Costa Rica':1745,\n",
    "                    'Mexico':1859,\n",
    "                    'Panama':1669,\n",
    "                    'Argentina': 1985,\n",
    "                    'Brazil':2131,\n",
    "                    'Colombia':1935,\n",
    "                    'Peru':1906,\n",
    "                    'Uruguay':1891,\n",
    "                    'Belgium':1931,\n",
    "                    'Croatia':1853,\n",
    "                    'Denmark':1843,\n",
    "                    'England':1941,\n",
    "                    'France':1984,\n",
    "                    'Germany':2092,\n",
    "                    'Iceland':1787,\n",
    "                    'Poland':1831,\n",
    "                    'Portugal':1975,\n",
    "                    'Russia':1685,       # Host Country\n",
    "                    'Serbia':1770,\n",
    "                    'Spain':2049,\n",
    "                    'Sweden':1796,\n",
    "                    'Switzerland':1879              \n",
    "                   }"
   ]
  },
  {
   "cell_type": "markdown",
   "metadata": {},
   "source": [
    "#### Groups"
   ]
  },
  {
   "cell_type": "code",
   "execution_count": 5,
   "metadata": {
    "collapsed": true
   },
   "outputs": [],
   "source": [
    "groups = {'Group_A': ['Russia', 'Saudi Arabia', 'Egypt', 'Uruguay'],\n",
    "          'Group_B': ['Portugal', 'Spain', 'Morocco', 'Iran'],\n",
    "          'Group_C': ['France', 'Australia', 'Peru', 'Denmark'],\n",
    "          'Group_D': ['Argentina', 'Iceland', 'Croatia', 'Nigeria'],\n",
    "          'Group_E': ['Brazil', 'Switzerland', 'Costa Rica', 'Serbia'],\n",
    "          'Group_F': ['Germany', 'Mexico', 'Sweden', 'South Korea'],\n",
    "          'Group_G': ['Belgium', 'Panama', 'Tunisia', 'England'],\n",
    "          'Group_H': ['Poland', 'Senegal', 'Colombia', 'Japan']       \n",
    "        }"
   ]
  },
  {
   "cell_type": "markdown",
   "metadata": {},
   "source": [
    "#### Win probability formula\n",
    "$$W_e = \\frac{1}{10^{\\frac{-d_r}{400}} + 1}$$\n"
   ]
  },
  {
   "cell_type": "markdown",
   "metadata": {},
   "source": [
    "#### Helper Functions"
   ]
  },
  {
   "cell_type": "code",
   "execution_count": 6,
   "metadata": {
    "collapsed": true
   },
   "outputs": [],
   "source": [
    "import pandas as pd\n",
    "\n",
    "def _create_score_pandas_structure(participant_elos):\n",
    "    columns = ['Second_Group_Stage', 'Winner_Group_Stage', 'Quater-Finalist', 'Semi-Finalist', 'Finalist', 'Winner']\n",
    "    rows = list(participant_elos.keys())\n",
    "\n",
    "    df = pd.DataFrame(rows)\n",
    "    for column in columns:\n",
    "        df[column] = 0\n",
    "\n",
    "    df = df.set_index(0)\n",
    "    df.index.names = ['Country']\n",
    "    return df\n",
    "\n",
    "def _binomial_trial(success_rate):\n",
    "    if success_rate > random.random():\n",
    "        return True\n",
    "    return False\n",
    "\n",
    "def _win_probability(team, opponent, elo=participant_elos):\n",
    "    team_elo = elo[team]\n",
    "    opponent_elo = elo[opponent]\n",
    "    return (1 / (10 ** ( - ( team_elo-opponent_elo) / 400) + 1 ) )\n",
    "\n",
    "def _stochastic_game_winner(team, opponent, elo=participant_elos):\n",
    "    team_win_rate = _win_probability(team, opponent, elo)\n",
    "    if _binomial_trial(team_win_rate):\n",
    "        return team\n",
    "    \n",
    "    return opponent"
   ]
  },
  {
   "cell_type": "markdown",
   "metadata": {},
   "source": [
    "#### Computes group winners"
   ]
  },
  {
   "cell_type": "code",
   "execution_count": 7,
   "metadata": {
    "collapsed": true
   },
   "outputs": [],
   "source": [
    "from itertools import combinations\n",
    "import random\n",
    "from random import shuffle\n",
    "\n",
    "def single_group_run(group_name):\n",
    "    group_members = groups[group_name]\n",
    "    shuffle(group_members)\n",
    "    final_scores = {k:0 for k in group_members}\n",
    "    for game in combinations(group_members, 2):\n",
    "        win_prob = _win_probability(game[0], game[1], participant_elos)\n",
    "        if _binomial_trial(win_prob):\n",
    "            final_scores[game[0]] += 1\n",
    "        else:\n",
    "            final_scores[game[1]] += 1\n",
    "            \n",
    "    rank = sorted(final_scores, key=lambda k: final_scores[k], reverse=True)\n",
    "    return rank[0], rank[1]\n"
   ]
  },
  {
   "cell_type": "markdown",
   "metadata": {},
   "source": [
    "#### Brackets \n",
    "\n",
    "![image.png](img/match_paths.png)\n"
   ]
  },
  {
   "cell_type": "markdown",
   "metadata": {},
   "source": [
    "### Run Single World Cup Simulation"
   ]
  },
  {
   "cell_type": "code",
   "execution_count": 8,
   "metadata": {
    "scrolled": true
   },
   "outputs": [],
   "source": [
    "def world_cup_single_run():\n",
    "    a_first, a_second = single_group_run('Group_A')\n",
    "    b_first, b_second = single_group_run('Group_B')\n",
    "    c_first, c_second = single_group_run('Group_C')\n",
    "    d_first, d_second = single_group_run('Group_D')\n",
    "    e_first, e_second = single_group_run('Group_E')\n",
    "    f_first, f_second = single_group_run('Group_F')\n",
    "    g_first, g_second = single_group_run('Group_G')\n",
    "    h_first, h_second = single_group_run('Group_H')\n",
    "    \n",
    "    sixteen_1 = _stochastic_game_winner(a_first, b_second)\n",
    "    sixteen_2 = _stochastic_game_winner(c_first, d_second)\n",
    "    sixteen_3 = _stochastic_game_winner(e_first, f_second)\n",
    "    sixteen_4 = _stochastic_game_winner(g_first, h_second)\n",
    "    sixteen_5 = _stochastic_game_winner(b_first, a_second)\n",
    "    sixteen_6 = _stochastic_game_winner(d_first, c_second)\n",
    "    sixteen_7 = _stochastic_game_winner(f_first, e_second)\n",
    "    sixteen_8 = _stochastic_game_winner(h_first, g_second)\n",
    "    \n",
    "    quarter_final_1 = _stochastic_game_winner(sixteen_1, sixteen_2)\n",
    "    quarter_final_2 = _stochastic_game_winner(sixteen_3, sixteen_4)\n",
    "    quarter_final_3 = _stochastic_game_winner(sixteen_5, sixteen_6)\n",
    "    quarter_final_4 = _stochastic_game_winner(sixteen_7, sixteen_8)\n",
    "    \n",
    "    semi_final_1 = _stochastic_game_winner(quarter_final_1, quarter_final_2)\n",
    "    semi_final_2 = _stochastic_game_winner(quarter_final_3, quarter_final_4)\n",
    "    \n",
    "    winner = _stochastic_game_winner(semi_final_1, semi_final_2)\n",
    "    \n",
    "    results_pandas = _create_score_pandas_structure(participant_elos)\n",
    "    \n",
    "    detailed_results = {'Second_Group_Stage': [a_second, b_second, c_second, d_second, e_second, f_second, g_second, h_second],\n",
    "                        'Winner_Group_Stage': [a_first, b_first, c_first, d_first, e_first, f_first, g_first, h_first],\n",
    "                        'Quater-Finalist': [sixteen_1, sixteen_2, sixteen_3, sixteen_4, sixteen_5, sixteen_6, sixteen_7, sixteen_8],\n",
    "                        'Semi-Finalist': [quarter_final_1, quarter_final_2, quarter_final_3, quarter_final_4],\n",
    "                        'Finalist': [semi_final_1, semi_final_2],\n",
    "                        'Winner': [winner]\n",
    "                       }\n",
    "    \n",
    "    for stage in detailed_results:\n",
    "        for country in detailed_results[stage]:\n",
    "            results_pandas.loc[country,stage] = 1\n",
    "    \n",
    "    return results_pandas\n",
    "\n",
    "\n",
    "    "
   ]
  },
  {
   "cell_type": "markdown",
   "metadata": {},
   "source": [
    "### Simulate 10,000 World Cups"
   ]
  },
  {
   "cell_type": "code",
   "execution_count": null,
   "metadata": {},
   "outputs": [],
   "source": [
    "def calculate_world_cup_outcome_probabilities(number_of_runs):\n",
    "    countries = participant_elos.keys()\n",
    "    wins_total_pandas = _create_score_pandas_structure(participant_elos)\n",
    "    \n",
    "    for run in range(number_of_runs):\n",
    "        wins_total_pandas = wins_total_pandas.add(world_cup_single_run())\n",
    "    \n",
    "    # Normalize\n",
    "    wins_total_pandas['Second_Group_Stage'] = wins_total_pandas['Second_Group_Stage']/number_of_runs\n",
    "    wins_total_pandas['Winner_Group_Stage'] = wins_total_pandas['Winner_Group_Stage']/number_of_runs\n",
    "    wins_total_pandas['Quater-Finalist'] = wins_total_pandas['Quater-Finalist']/number_of_runs\n",
    "    wins_total_pandas['Semi-Finalist'] = wins_total_pandas['Semi-Finalist']/number_of_runs\n",
    "    wins_total_pandas['Finalist'] = wins_total_pandas['Finalist']/number_of_runs\n",
    "    wins_total_pandas['Winner'] = wins_total_pandas['Winner']/number_of_runs\n",
    "    \n",
    "    wins_total_pandas=wins_total_pandas.sort_values(by=\"Winner\", ascending=False)\n",
    "    \n",
    "    return wins_total_pandas\n",
    "    \n",
    "calculate_world_cup_outcome_probabilities(100000)"
   ]
  },
  {
   "cell_type": "code",
   "execution_count": 10,
   "metadata": {
    "collapsed": true
   },
   "outputs": [],
   "source": [
    "##OBSOLETE\n",
    "def calculate_group_outcome_probabilities(group_name, number_of_runs):\n",
    "    group_members = groups[group_name]\n",
    "    first_place_count = {k:0 for k in group_members}\n",
    "    second_place_count = {k:0 for k in group_members}\n",
    "    for run in range(number_of_runs):\n",
    "        first, second = single_group_run(group_name)\n",
    "        first_place_count[first] += 1\n",
    "        second_place_count[second] += 1\n",
    "        \n",
    "    first_place_normalized = {key:float(value)/sum(first_place_count.values()) for (key,value) in first_place_count.items()}\n",
    "    second_place_normalized = {key:float(value)/sum(second_place_count.values()) for (key,value) in second_place_count.items()}\n",
    "        \n",
    "    return first_place_normalized, second_place_normalized"
   ]
  },
  {
   "cell_type": "code",
   "execution_count": null,
   "metadata": {
    "collapsed": true
   },
   "outputs": [],
   "source": []
  }
 ],
 "metadata": {
  "kernelspec": {
   "display_name": "Python 3",
   "language": "python",
   "name": "python3"
  },
  "language_info": {
   "codemirror_mode": {
    "name": "ipython",
    "version": 3
   },
   "file_extension": ".py",
   "mimetype": "text/x-python",
   "name": "python",
   "nbconvert_exporter": "python",
   "pygments_lexer": "ipython3",
   "version": "3.6.1"
  }
 },
 "nbformat": 4,
 "nbformat_minor": 2
}
