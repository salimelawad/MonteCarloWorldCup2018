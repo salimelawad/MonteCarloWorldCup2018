{
 "cells": [
  {
   "cell_type": "markdown",
   "metadata": {},
   "source": [
    "# Monte Carlo World Cup Simulation"
   ]
  },
  {
   "cell_type": "markdown",
   "metadata": {},
   "source": [
    "### Elo Data\n",
    "###### Source date: 05/22/2018 \n",
    "https://www.eloratings.net/"
   ]
  },
  {
   "cell_type": "code",
   "execution_count": 3,
   "metadata": {
    "collapsed": true
   },
   "outputs": [],
   "source": [
    "participant_elos = {'Australia':1714, \n",
    "                    'Iran':1796,\n",
    "                    'Japan':1692, \n",
    "                    'Saudi Arabia': 1600,\n",
    "                    'South Korea':1745, \n",
    "                    'Egypt':1646,\n",
    "                    'Morocco':1711,\n",
    "                    'Nigeria':1699,\n",
    "                    'Senegal':1747,\n",
    "                    'Tunisia':1649,\n",
    "                    'Costa Rica':1745,\n",
    "                    'Mexico':1859,\n",
    "                    'Panama':1669,\n",
    "                    'Argentina': 1985,\n",
    "                    'Brazil':2131,\n",
    "                    'Colombia':1935,\n",
    "                    'Peru':1906,\n",
    "                    'Uruguay':1891,\n",
    "                    'Belgium':1931,\n",
    "                    'Croatia':1853,\n",
    "                    'Denmark':1843,\n",
    "                    'England':1941,\n",
    "                    'France':1984,\n",
    "                    'Germany':2092,\n",
    "                    'Iceland':1787,\n",
    "                    'Poland':1831,\n",
    "                    'Portugal':1975,\n",
    "                    'Russia':1685,       # Host Country\n",
    "                    'Serbia':1770,\n",
    "                    'Spain':2049,\n",
    "                    'Sweden':1796,\n",
    "                    'Switzerland':1879              \n",
    "                   }"
   ]
  },
  {
   "cell_type": "code",
   "execution_count": 4,
   "metadata": {
    "collapsed": true
   },
   "outputs": [],
   "source": [
    "groups = {'Group_A': ['Russia', 'Saudi Arabia', 'Egypt', 'Uruguay'],\n",
    "          'Group_B': ['Portugal', 'Spain', 'Morocco', 'Iran'],\n",
    "          'Group_C': ['France', 'Australia', 'Peru', 'Denmark'],\n",
    "          'Group_D': ['Argentina', 'Iceland', 'Croatia', 'Nigeria'],\n",
    "          'Group_E': ['Brazil', 'Switzerland', 'Costa Rica', 'Serbia'],\n",
    "          'Group_F': ['Germany', 'Mexico', 'Sweden', 'South Korea'],\n",
    "          'Group_G': ['Belgium', 'Panama', 'Tunisia', 'England'],\n",
    "          'Group_H': ['Poland', 'Senegal', 'Colombia', 'Japan']       \n",
    "        }"
   ]
  },
  {
   "cell_type": "code",
   "execution_count": 5,
   "metadata": {},
   "outputs": [
    {
     "name": "stdout",
     "output_type": "stream",
     "text": [
      "1685\n",
      "1600\n",
      "1646\n",
      "1891\n",
      "1975\n",
      "2049\n",
      "1711\n",
      "1796\n",
      "1984\n",
      "1714\n",
      "1906\n",
      "1843\n",
      "1985\n",
      "1787\n",
      "1853\n",
      "1699\n",
      "2131\n",
      "1879\n",
      "1745\n",
      "1770\n",
      "2092\n",
      "1859\n",
      "1796\n",
      "1745\n",
      "1931\n",
      "1669\n",
      "1649\n",
      "1941\n",
      "1831\n",
      "1747\n",
      "1935\n",
      "1692\n"
     ]
    }
   ],
   "source": [
    "for g in groups:\n",
    "    for t in groups[g]:\n",
    "        print(participant_elos[t])"
   ]
  },
  {
   "cell_type": "markdown",
   "metadata": {},
   "source": [
    "#### Win probability formula\n",
    "$$W_e = \\frac{1}{10^{\\frac{-d_r}{400}} + 1}$$\n"
   ]
  },
  {
   "cell_type": "code",
   "execution_count": 55,
   "metadata": {},
   "outputs": [],
   "source": [
    "from itertools import combinations\n",
    "import random\n",
    "\n",
    "def binomial_trial(success_rate):\n",
    "    if success_rate > random.random():\n",
    "        return True\n",
    "    return False\n",
    "\n",
    "def win_probability(team, opponent, elo):\n",
    "    team_elo = elo[team]\n",
    "    opponent_elo = elo[opponent]\n",
    "    return (1 / (10 ** ( - ( team_elo-opponent_elo) / 400) + 1 ) )\n",
    "\n",
    "def single_group_run(group_name):\n",
    "    group_members = groups[group_name]\n",
    "    final_scores = {k:0 for k in group_members}\n",
    "    for game in combinations(group_members, 2):\n",
    "        win_prob = win_probability(game[0], game[1], participant_elos)\n",
    "        if binomial_trial(win_prob):\n",
    "            final_scores[game[0]] += 1\n",
    "        else:\n",
    "            final_scores[game[1]] += 1\n",
    "            \n",
    "    rank = sorted(final_scores, key=lambda k: final_scores[k], reverse=True)\n",
    "    return rank[0], rank[1]\n",
    "\n",
    "def calculate_group_outcome_probabilities(group_name, number_of_runs):\n",
    "    group_members = groups[group_name]\n",
    "    first_place_count = {k:0 for k in group_members}\n",
    "    second_place_count = {k:0 for k in group_members}\n",
    "    for run in range(number_of_runs):\n",
    "        first, second = single_group_run(group_name)\n",
    "        first_place_count[first] += 1\n",
    "        second_place_count[second] += 1\n",
    "        \n",
    "    first_place_normalized = {key:float(value)/sum(first_place_count.values()) for (key,value) in first_place_count.items()}\n",
    "    second_place_normalized = {key:float(value)/sum(second_place_count.values()) for (key,value) in second_place_count.items()}\n",
    "        \n",
    "    return first_place_normalized, second_place_normalized\n",
    "        \n",
    "        \n",
    "group_a_probs = calculate_group_outcome_probabilities('Group_A', 100000)\n",
    "group_b_probs = calculate_group_outcome_probabilities('Group_B', 100000)\n",
    "group_c_probs = calculate_group_outcome_probabilities('Group_C', 100000)\n",
    "group_d_probs = calculate_group_outcome_probabilities('Group_D', 100000)\n",
    "group_e_probs = calculate_group_outcome_probabilities('Group_E', 100000)\n",
    "group_f_probs = calculate_group_outcome_probabilities('Group_F', 100000)\n",
    "group_g_probs = calculate_group_outcome_probabilities('Group_G', 100000)\n",
    "group_h_probs = calculate_group_outcome_probabilities('Group_H', 100000)"
   ]
  },
  {
   "cell_type": "markdown",
   "metadata": {},
   "source": [
    "###### 8ths: Winner C vs Second D | Winner A vs Second B | Winner B vs Second A | Winner D vs Second C | Winner E vs Second F | Winner G vs Second E | Winner F vs Second E | Winner H vs Second G\n",
    "\n",
    "###### quarter-finals: \n"
   ]
  },
  {
   "cell_type": "code",
   "execution_count": null,
   "metadata": {},
   "outputs": [],
   "source": []
  },
  {
   "cell_type": "code",
   "execution_count": null,
   "metadata": {
    "collapsed": true
   },
   "outputs": [],
   "source": []
  }
 ],
 "metadata": {
  "kernelspec": {
   "display_name": "Python 3",
   "language": "python",
   "name": "python3"
  },
  "language_info": {
   "codemirror_mode": {
    "name": "ipython",
    "version": 3
   },
   "file_extension": ".py",
   "mimetype": "text/x-python",
   "name": "python",
   "nbconvert_exporter": "python",
   "pygments_lexer": "ipython3",
   "version": "3.6.1"
  }
 },
 "nbformat": 4,
 "nbformat_minor": 2
}
